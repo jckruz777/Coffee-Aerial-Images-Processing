{
 "cells": [
  {
   "cell_type": "markdown",
   "metadata": {},
   "source": [
    "# Roya Analysis from Coffee Aerial Images"
   ]
  },
  {
   "cell_type": "markdown",
   "metadata": {},
   "source": [
    "### Loading Images by using Spectral Python"
   ]
  },
  {
   "cell_type": "code",
   "execution_count": 1,
   "metadata": {},
   "outputs": [],
   "source": [
    "#Loading libraries\n",
    "\n",
    "import numpy as np\n",
    "from PIL import Image, ImageMath\n",
    "import extlib.image_slicer as img_slicer\n",
    "import matplotlib.pyplot as plt\n",
    "import cv2"
   ]
  },
  {
   "cell_type": "code",
   "execution_count": 6,
   "metadata": {},
   "outputs": [
    {
     "data": {
      "image/png": "[encoded data removed]",
      "text/plain": [
       "<Figure size 432x288 with 1 Axes>"
      ]
     },
     "metadata": {},
     "output_type": "display_data"
    }
   ],
   "source": [
    "# Load a sample TIFF image\n",
    "img_name='Parecela_Julio_6'\n",
    "\n",
    "# Num of sub-images\n",
    "num_subimages = 4\n",
    "\n",
    "# Limit increase for very large images support\n",
    "Image.MAX_IMAGE_PIXELS = 1000000000\n",
    "\n",
    "# A list of tiles: image, number, position, coords, filename\n",
    "tiles = img_slicer.slice('IMG/' + img_name + '.tif', num_subimages)\n",
    "\n",
    "# Get the first image\n",
    "imgA = tiles[0].image\n",
    "\n",
    "# Get and display each channel\n",
    "rA, gA, bA, zA = imgA.split()\n",
    "#rA.show()\n",
    "#gA.show()\n",
    "#bA.show()\n",
    "#zA.show()\n",
    "\n",
    "# R,G,B histograms\n",
    "histogramR = rA.histogram()\n",
    "histogramG = gA.histogram()\n",
    "histogramB = bA.histogram()\n",
    "\n",
    "for i in range(0, 255):\n",
    "    plt.bar(i, histogramR[i], color = 'red')\n",
    "    plt.bar(i, histogramG[i], color = 'green')\n",
    "    plt.bar(i, histogramB[i], color = 'blue')\n"
   ]
  },
  {
   "cell_type": "code",
   "execution_count": null,
   "metadata": {},
   "outputs": [],
   "source": []
  }
 ],
 "metadata": {
  "kernelspec": {
   "display_name": "Python 3",
   "language": "python",
   "name": "python3"
  },
  "language_info": {
   "codemirror_mode": {
    "name": "ipython",
    "version": 3
   },
   "file_extension": ".py",
   "mimetype": "text/x-python",
   "name": "python",
   "nbconvert_exporter": "python",
   "pygments_lexer": "ipython3",
   "version": "3.6.5"
  }
 },
 "nbformat": 4,
 "nbformat_minor": 2
}
